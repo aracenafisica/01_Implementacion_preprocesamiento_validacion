{
 "cells": [
  {
   "cell_type": "markdown",
   "id": "f69053c5",
   "metadata": {},
   "source": [
    "![](imagenes/UC_FMRI.jpg)"
   ]
  },
  {
   "cell_type": "markdown",
   "id": "c6b9c665",
   "metadata": {},
   "source": [
    "---\n",
    "---\n",
    "\n",
    "***Andres Eduardo Aracena Rangel***\n",
    "\n",
    "*Estudiante del programa del Magister en Física Médica*\n",
    "\n",
    "---\n",
    "---\n",
    "\n",
    "El siguiente Script de Python forma parte del trabajo especial de grado.\n",
    "\n",
    "Profesora Guía:\n",
    "\n",
    "*PhD María Daniela Cornejo*\n",
    "\n",
    "---\n",
    "\n",
    "---\n",
    "\n",
    "El siguiente Script de Python forma parte del trabajo especial de grado.\n",
    "\n",
    "&nbsp;\n",
    "Con referencia:\n",
    "\n",
    "- [Pagina oficial NIbabel](https://nipy.org/nibabel/index.html) \n",
    "\n",
    "Imagenes de fMRI extraidas de OpenNuero:\n",
    " \n",
    " - [ds002422](https://openneuro.org/datasets/ds002422/versions/1.1.0)\n",
    " \n",
    " ---\n",
    " Acronimos:\n",
    "\n",
    "- CSF: Cerebrospinal Fluid (*líquido cefalorraquídeo*)\n",
    "- GM: Gray Matter (*materia gris*)\n",
    "- WM: White Matter (*materia blanca*)\n",
    "---\n",
    "NOTA:\n",
    "Cuando indiquemos imagenes brain o mascaras brain, nos estamos refieriendo a las imagenes o mascaras de csf, wm, gm"
   ]
  },
  {
   "cell_type": "markdown",
   "id": "ed0de054",
   "metadata": {},
   "source": [
    "# Visualización mascaras csf, wm y gm resultantes del preprocesamiento"
   ]
  },
  {
   "cell_type": "markdown",
   "id": "ccf458a4",
   "metadata": {},
   "source": [
    "## Importamos librerias"
   ]
  },
  {
   "cell_type": "code",
   "execution_count": 1,
   "id": "2e7aa598",
   "metadata": {},
   "outputs": [],
   "source": [
    "import time # medir el tiempo de ejecución de nuestros programas\n",
    "start = time.process_time()\n",
    "inicio = time.time()"
   ]
  },
  {
   "cell_type": "code",
   "execution_count": 2,
   "id": "afa02911",
   "metadata": {},
   "outputs": [
    {
     "name": "stdout",
     "output_type": "stream",
     "text": [
      "220720-01:18:35,586 nipype.utils WARNING:\n",
      "\t A newer version (1.8.3) of nipy/nipype is available. You are using 1.7.0\n"
     ]
    },
    {
     "name": "stderr",
     "output_type": "stream",
     "text": [
      "/home/aracena/.local/lib/python3.9/site-packages/nilearn/datasets/__init__.py:93: FutureWarning: Fetchers from the nilearn.datasets module will be updated in version 0.9 to return python strings instead of bytes and Pandas dataframes instead of Numpy arrays.\n",
      "  warn(\"Fetchers from the nilearn.datasets module will be \"\n"
     ]
    }
   ],
   "source": [
    "import os # El módulo os nos permite acceder a funcionalidades dependientes del Sistema Operativo\n",
    "from os.path import join as opj # Este método concatena varios componentes de ruta con exactamente un separador de directorio(‘/’)\n",
    "\n",
    "from nipype import SelectFiles\n",
    "\n",
    "import nibabel as nib\n",
    "import numpy as np\n",
    "import matplotlib.pyplot as plt\n",
    "\n",
    "import pandas as pd\n",
    "\n",
    "from nilearn.plotting import plot_anat\n",
    "%matplotlib inline"
   ]
  },
  {
   "cell_type": "code",
   "execution_count": 3,
   "id": "ced00877",
   "metadata": {},
   "outputs": [],
   "source": [
    "from nilearn.plotting import plot_anat"
   ]
  },
  {
   "cell_type": "code",
   "execution_count": 4,
   "id": "4ffbfb7e",
   "metadata": {},
   "outputs": [],
   "source": [
    "'''\n",
    "Ruta del directorio de la data\n",
    "'''\n",
    "path_data = '/home/aracena/thesis_ds002422/' \n",
    "\n",
    "'''\n",
    "Ruta donde reposa la imagen funcional procesada\n",
    "'''\n",
    "path_fmri = opj(path_data,'01_fase1_extraccion_mask_brain','output','datasink','fmri_detrend',\n",
    "                'mask_ext_csf', 'threshold_0.95')\n",
    "\n",
    "'''\n",
    "Ruta mascaras brain\n",
    "'''\n",
    "path_brain = opj(path_data,'01_fase1_extraccion_mask_brain','output','datasink','masks_brain')\n",
    "\n",
    "'''\n",
    "Ruta donde reposan las imagenes de referencia de los cortes anatomicos\n",
    "'''\n",
    "path_ref = opj(path_data,'01_fase1_extraccion_mask_brain', 'imagenes')\n",
    "\n",
    "\n",
    "'''\n",
    "lista de tejidos a procesar\n",
    "'''\n",
    "tejido = ['mask_csf', 'mask_gm', 'mask_wm']\n",
    "\n",
    "        \n",
    "'''\n",
    "Ingrese el umbral que desea extraer (se extrajeron tres mask brain para tres umbrales distintos)\n",
    "'''\n",
    "umbral_sel = '0.5'"
   ]
  },
  {
   "cell_type": "markdown",
   "id": "d4ae6602",
   "metadata": {},
   "source": [
    "## Funciones"
   ]
  },
  {
   "cell_type": "markdown",
   "id": "3e74edd4",
   "metadata": {},
   "source": [
    "### Función atributos"
   ]
  },
  {
   "cell_type": "code",
   "execution_count": 5,
   "id": "f58785f6",
   "metadata": {},
   "outputs": [],
   "source": [
    "'''\n",
    "Función para extraer los atributos de la(s) imagen(es).\n",
    "\n",
    "Inputs:\n",
    "\n",
    "- img: Diccinario con las imagenes nifti\n",
    "\n",
    "Output:\n",
    "\n",
    "df_atri: Dataframe con los principales atributos de las imagenes contenidas en el diccionario 'img'\n",
    "'''\n",
    "\n",
    "def atributo_img(img):\n",
    "    import pandas as pd\n",
    "    lista_img = list(img.keys()) # Creamos una lista con las claves del diccionario\n",
    "\n",
    "    df_atri = pd.DataFrame()\n",
    "    df_atri.index = ['forma', 'dimension', 'orientacion', '', 'x_img', 'y_img' , 'z_img', 'volumenes_(N)', 'voxel_size_(mm)', \n",
    "                       'TR_(s)', 'tipo_dato', 'numero_voxels','min_img', 'max_img']\n",
    "    \n",
    "    for i, ima in enumerate(lista_img):\n",
    "        lista_atri = []\n",
    "        #cargamos el header de la imagen\n",
    "        header_img = img[ima].header\n",
    "        \n",
    "        # Forma y dimensión de la imágen\n",
    "        forma = header_img.get_data_shape() \n",
    "        lista_atri.append(str(forma))\n",
    "        lista_atri.append(len(forma))\n",
    "        \n",
    "        # Orientacion de la imágen\n",
    "        orientacion = nib.orientations.aff2axcodes(img[ima].affine)\n",
    "        lista_atri.append(orientacion)\n",
    "\n",
    "        # x, y, z y volumenes\n",
    "        ejes=[]\n",
    "        for i in range(len(orientacion)):\n",
    "            tam = img[ima].shape[i]\n",
    "            ori = str(orientacion[i])\n",
    "            if  ori == 'L'or ori == 'R':\n",
    "                x_img = tam\n",
    "                a = 'x'\n",
    "\n",
    "            elif ori == 'A' or ori == 'P':\n",
    "                y_img = tam\n",
    "                a = 'y'\n",
    "\n",
    "            elif ori == 'I'or ori == 'S':\n",
    "                z_img = tam\n",
    "                a = 'z'\n",
    "                \n",
    "            ejes.append(a)\n",
    "        \n",
    "        # Agregamos a la lista de atributos forma, x, y, z\n",
    "        lista_atri.append(ejes)\n",
    "        lista_atri.append(x_img)\n",
    "        lista_atri.append(y_img)\n",
    "        lista_atri.append(z_img)\n",
    "        \n",
    "        # Agregamos volumes a la lista de atributos \n",
    "        if len(forma) == 4:\n",
    "            lista_atri.append(forma[-1])\n",
    "        else:\n",
    "            lista_atri.append('1')\n",
    "\n",
    "        # Tamaño del voxel\n",
    "        tavo = header_img.get_zooms()[0:3]\n",
    "        \n",
    "        tamvox=[]\n",
    "        for i in range(len(tavo)):\n",
    "            tamvox.append(round(tavo[i],3))\n",
    "            \n",
    "        lista_atri.append(tamvox) \n",
    "        \n",
    "        # Tiempo de exploración\n",
    "        if len(header_img.get_zooms()) == 4:\n",
    "            lista_atri.append(header_img.get_zooms()[-1])\n",
    "        else:\n",
    "            lista_atri.append('---')     \n",
    "        \n",
    "        \n",
    "        #lista_atri.append(header_img.get_zooms()[-1])   # Tiempo de exploración\n",
    "        lista_atri.append(header_img.get_data_dtype())   # Tipo de datos numérico\n",
    "        lista_atri.append(img[ima].get_fdata().size) # Número de elementos de la matriz\n",
    "        lista_atri.append(round(img[ima].get_fdata().min(),2)) # Valor minimo de la imágen\n",
    "        lista_atri.append(round(img[ima].get_fdata().max(),2)) # Valor maximo de la imágen\n",
    "        \n",
    "        # Creamos DF de atributos de la imagen\n",
    "        df_at = pd.DataFrame()\n",
    "        df_at = pd.DataFrame(lista_atri)\n",
    "        df_at.columns = [ima]\n",
    "        df_at.index = df_atri.index\n",
    "        #display(df_at)\n",
    "\n",
    "        # Unimos las DF\n",
    "        df_atri = pd.merge(df_atri, df_at,\n",
    "                           right_index=True,left_index=True)\n",
    "    return df_atri"
   ]
  },
  {
   "cell_type": "markdown",
   "id": "cc4c6eb6",
   "metadata": {},
   "source": [
    "### Función visual_cortes_ana"
   ]
  },
  {
   "cell_type": "code",
   "execution_count": 6,
   "id": "429def99",
   "metadata": {},
   "outputs": [],
   "source": [
    "'''\n",
    "Función para generar la visualización de los cortes anatómico de varias imágenes (hasta cuatro) \n",
    "\n",
    "Inputs:\n",
    "\n",
    "- img: Diccionario con las imágenes nifti\n",
    "- vol: Volumen donde se desea visualizar los cortes anatómicos\n",
    "- vox: Posición i,j,k del voxel sobre el cual se proyectarán los cortes\n",
    "#- nom_img = nombre de la imagen con que se desea visualizar y guardar\n",
    "\n",
    "Outputs:\n",
    "- plot de los diferentes cortes anatómicos sobre un voxel de las imágenes ingresadas en 'img'\n",
    "'''\n",
    "\n",
    "def visual_cortes_ana(img, vol, voxel):\n",
    "    import nibabel as nib\n",
    "    import numpy as np\n",
    "    import matplotlib.pyplot as plt\n",
    "    import matplotlib.image as mpimg\n",
    "   \n",
    "    # Creamos una lista con las claves del diccionario ingresado\n",
    "    lista_img = list(img.keys())\n",
    "\n",
    "    corte_sag = {}\n",
    "    corte_cor = {}\n",
    "    corte_axi = {}\n",
    "    datos_img = {}\n",
    "    x_cor = {}\n",
    "    y_cor = {}\n",
    "    z_cor = {}\n",
    "    nomb_ori={}\n",
    "    for i, ima in enumerate(lista_img):\n",
    "        # Orientacion de la imágen\n",
    "        orientacion = nib.orientations.aff2axcodes(img[ima].affine)\n",
    "        # creamos un nombre para la grafica\n",
    "        a = ','.join(orientacion)\n",
    "        nomb_ori[ima] = '('+ a +')'\n",
    "        \n",
    "        #cargamos datos de la imagen\n",
    "        datos_img[ima] = img[ima].get_fdata()\n",
    "        ta = len(datos_img[ima].shape)\n",
    "        if ta == 4:\n",
    "            datos_img[ima] = datos_img[ima][...,vol]\n",
    "        else:\n",
    "            datos_img[ima] = datos_img[ima][...]\n",
    "\n",
    "        #se extraen valores x, y, z del voxel ingresado y cortes segun posición anatómica\n",
    "        for j in range(len(orientacion)):\n",
    "            ori = str(orientacion[j])\n",
    "\n",
    "            if  ori == 'L'or ori == 'R':\n",
    "                x_cor[ima] = voxel[j]\n",
    "                \n",
    "                # corte segun posición anatómica\n",
    "                if j == 0:\n",
    "                    corte_sag[ima] = datos_img[ima][x_cor[ima],:,:]\n",
    "                elif j == 1:\n",
    "                    corte_sag[ima] = datos_img[ima][:,x_cor[ima],:]\n",
    "                elif j == 2:\n",
    "                    corte_sag[ima] = datos_img[ima][:,:,x_cor[ima]]\n",
    "\n",
    "            elif ori == 'A' or ori == 'P':\n",
    "                y_cor[ima] = voxel[j]\n",
    "                \n",
    "                # corte segun posición anatómica\n",
    "                if j == 0:\n",
    "                    corte_cor[ima] = datos_img[ima][y_cor[ima],:,:]\n",
    "                elif j == 1:\n",
    "                    corte_cor[ima] = datos_img[ima][:,y_cor[ima],:]\n",
    "                elif j == 2:\n",
    "                    corte_cor[ima] = datos_img[ima][:,:,y_cor[ima]]\n",
    "\n",
    "            elif ori == 'I'or ori == 'S':\n",
    "                z_cor[ima] = voxel[j]\n",
    "                \n",
    "                # corte segun posición anatómica\n",
    "                if j == 0:\n",
    "                    corte_axi[ima] = datos_img[ima][z_cor[ima],:,:]\n",
    "                elif j == 1:\n",
    "                    corte_axi[ima] = datos_img[ima][:,z_cor[ima],:]\n",
    "                elif j == 2:\n",
    "                    corte_axi[ima] = datos_img[ima][:,:,z_cor[ima]]\n",
    "    \n",
    "    # Definimos estilo de letra para la grafica\n",
    "    font1 = {'fontsize':18, 'fontweight':'bold', 'color':'tab:blue'}\n",
    "    font2  = {'fontsize':18, 'fontweight':'bold', 'color':'tab:red'}\n",
    "    \n",
    "    if (len(lista_img))==1:\n",
    "        #Graficamos\n",
    "        nom = lista_img[0] + '\\n' + nomb_ori[lista_img[0]]\n",
    "\n",
    "        fig, axes = plt.subplots(1,3, figsize=(15, 15))\n",
    "        fig.suptitle(nom, fontweight =\"bold\", fontsize = 22, color = 'tab:blue')\n",
    "        axes[0].imshow(corte_sag[ima], cmap = 'gray')\n",
    "        axes[1].imshow(corte_cor[ima], cmap = 'gray')\n",
    "        axes[2].imshow(corte_axi[ima], cmap = 'gray')\n",
    "        for i in range(3):\n",
    "            axes[i].axis('off')\n",
    "\n",
    "        # Titulos de las graficas\n",
    "        titulo =['Corte Sagital: '+ str(x_cor[ima]) + '\\n', \n",
    "                 'Corte Coronal: '+ str(y_cor[ima]) + '\\n',\n",
    "                 'Corte Axial: '+ str(z_cor[ima]) + '\\n']\n",
    "\n",
    "        for i, title in enumerate(titulo):\n",
    "            axes[i].set_title(title, fontdict=font2)\n",
    "\n",
    "        plt.subplots_adjust(#left=0.5,\n",
    "                        #bottom=0.5, \n",
    "                        #right=0.7,\n",
    "                        hspace=0.3,\n",
    "                        top=1.26)\n",
    "        fig.patch.set_facecolor('xkcd:white')\n",
    "        plt.show()\n",
    "    \n",
    "    else:\n",
    "        # Graficamos\n",
    "        fig, axes = plt.subplots(3, len(lista_img),figsize=(20, 20))\n",
    "        for i, im in enumerate(lista_img):\n",
    "            axes[0,i].imshow(corte_sag[im], cmap = 'gray')\n",
    "            axes[1,i].imshow(corte_cor[im], cmap = 'gray')\n",
    "            axes[2,i].imshow(corte_axi[im], cmap = 'gray')\n",
    "\n",
    "        \n",
    "            # Identificamos los cortes\n",
    "            titulo =['Corte Sagital: '+ str(x_cor[im]) + '\\n', \n",
    "                     'Corte Coronal: '+ str(y_cor[im]) + '\\n',\n",
    "                     'Corte Axial: '+ str(z_cor[im]) + '\\n']\n",
    "\n",
    "            for j, title in enumerate(titulo):\n",
    "                axes[j,i].xaxis.set_label_position('top')\n",
    "                axes[j,i].set_xlabel(title, fontdict=font2)\n",
    "            \n",
    "\n",
    "        # Titulos que que identifica la imagen y la orientacion\n",
    "        for i,im in enumerate(lista_img):\n",
    "            axes[0,i].set_title((im+'\\n'+nomb_ori[im]+'\\n'), \n",
    "                                fontdict=font1)\n",
    "        \n",
    "        #for j in range(3):\n",
    "            #for i in range(2):\n",
    "                #axes[j,i].axis('off')\n",
    "\n",
    "    \n",
    "        plt.subplots_adjust(#left=0.5,\n",
    "                            #bottom=0.5, \n",
    "                            #right=0.7,        \n",
    "                            #hspace=0.3,\n",
    "                            top=0.91)\n",
    "    plt.show()\n",
    "    \n",
    "    # cargamos imagen de referencia de los cortes anatomicos\n",
    "    img_cor_sag = mpimg.imread(opj(path_ref,'corte_sagital_ref.png'))\n",
    "    img_cor_cor = mpimg.imread(opj(path_ref,'corte_coronal_ref.png'))\n",
    "    img_cor_axi = mpimg.imread(opj(path_ref,'corte_axial_ref.png'))\n",
    "\n",
    "    img_cor = [img_cor_sag,img_cor_cor,img_cor_axi]\n",
    "\n",
    "    fig, axes = plt.subplots(1,3, figsize=(2,2))\n",
    "    for i,imco in enumerate(img_cor):\n",
    "        axes[i].imshow(img_cor[i])\n",
    "        axes[i].axis('off')\n",
    "\n",
    "    # para cambiar el espacio entre las subtramas de Matplotlib\n",
    "    plt.subplots_adjust(left=0, \n",
    "                        bottom=0.1,  \n",
    "                        right=7,  \n",
    "                        top=0.9,  \n",
    "                        wspace=1,  \n",
    "                        hspace=0.4)\n",
    "    #fig.tight_layout()\n",
    "    fig.patch.set_facecolor('xkcd:white')\n",
    "    plt.plot()"
   ]
  },
  {
   "cell_type": "markdown",
   "id": "ec60b13c",
   "metadata": {},
   "source": [
    "## Cargamos imagen funcional preprocesada con bet y datos de la  imagen funcional"
   ]
  },
  {
   "cell_type": "code",
   "execution_count": 7,
   "id": "266f475a",
   "metadata": {},
   "outputs": [
    {
     "data": {
      "text/plain": [
       "(62, 62, 44, 196)"
      ]
     },
     "execution_count": 7,
     "metadata": {},
     "output_type": "execute_result"
    }
   ],
   "source": [
    "img_func = 'fmri_rest_prepro.nii.gz'\n",
    "img_func_orig = nib.load(opj(path_fmri,img_func)) # Cargamos imagen nifti\n",
    "datos_func_orig = img_func_orig.get_fdata()       # Cargamos datos de la imagen\n",
    "datos_func_orig.shape"
   ]
  },
  {
   "cell_type": "markdown",
   "id": "fa65d340",
   "metadata": {},
   "source": [
    "### Diccionario: Crear diccionario general de la imagenes y datos a procesar"
   ]
  },
  {
   "cell_type": "markdown",
   "id": "669819a5",
   "metadata": {},
   "source": [
    "El objetivo de guardar las imagenes y datos de las imagenes a procesar (imagenes funcional y mascaras brain) es para luego poder utilizar los respectivos datos de manera sencilla en bucles.\n",
    "Se crea los siguientes diccionario general:\n",
    "\n",
    "- 'img': para guaradar las imagenes a procesar\n",
    "- 'datos_img': para guardar los datos de las imagenes a procesar"
   ]
  },
  {
   "cell_type": "code",
   "execution_count": 8,
   "id": "2caac007",
   "metadata": {},
   "outputs": [],
   "source": [
    "img = {'func_prepro': img_func_orig}\n",
    "datos_img = {'func_prepro' : datos_func_orig}"
   ]
  },
  {
   "cell_type": "markdown",
   "id": "ebcfcbcd",
   "metadata": {},
   "source": [
    "## Cargamos imagen y datos de la imagenes de las mascaras brain"
   ]
  },
  {
   "cell_type": "markdown",
   "id": "6a5f2ea3",
   "metadata": {},
   "source": [
    "### Interfaz SelectFiles - mascaras brain\n",
    "\n",
    "En esta oprtunidad, trabajaremos con interfaces y no con nodos, ya que queremos trabajar directamente y visualizar las mascaras.\n",
    "\n",
    "Extramos las rutas de las mascaras para los umbrales previamente calculo en el notebook **01_fase1_extraccion_mask_brain**"
   ]
  },
  {
   "cell_type": "code",
   "execution_count": 9,
   "id": "639781d3",
   "metadata": {},
   "outputs": [],
   "source": [
    "# La entrada template indica la plantilla de cadena que debe coincidir en el directorio indicado a buscar\n",
    "templates = {'mask_brain': 'mask_ext_*/threshold_{umbral}/fmri_rest_prepro.nii.gz'}\n",
    "       \n",
    "selectfiles = SelectFiles(templates)\n",
    "\n",
    "\n",
    "'''\n",
    "Inputs\n",
    "- Ubicación de la carpeta del conjunto de datos\n",
    "- Cadenas de marcador de posición {}\n",
    "'''\n",
    "# La entrada base_directory indica en que directorio buscar\n",
    "selectfiles.inputs.base_directory = path_brain\n",
    "\n",
    "#Ingresamos la(s) cadena(s) de marcador de posición {} con valores\n",
    "selectfiles.inputs.umbral = umbral_sel\n",
    "\n",
    "#selectfiles.inputs.tejido = [tejido]\n",
    "#get_mask_ext.iterables = ('mask_ext', mask_ext)\n",
    "\n",
    "# ejecutamos \n",
    "brain_mask = selectfiles.run().outputs"
   ]
  },
  {
   "cell_type": "code",
   "execution_count": 10,
   "id": "840c8393",
   "metadata": {},
   "outputs": [
    {
     "data": {
      "text/plain": [
       "\n",
       "mask_brain = ['/home/aracena/thesis_ds002422/01_fase1_extraccion_mask_brain/output/datasink/masks_brain/mask_ext_csf/threshold_0.5/fmri_rest_prepro.nii.gz', '/home/aracena/thesis_ds002422/01_fase1_extraccion_mask_brain/output/datasink/masks_brain/mask_ext_gm/threshold_0.5/fmri_rest_prepro.nii.gz', '/home/aracena/thesis_ds002422/01_fase1_extraccion_mask_brain/output/datasink/masks_brain/mask_ext_wm/threshold_0.5/fmri_rest_prepro.nii.gz']"
      ]
     },
     "execution_count": 10,
     "metadata": {},
     "output_type": "execute_result"
    }
   ],
   "source": [
    "brain_mask"
   ]
  },
  {
   "cell_type": "markdown",
   "id": "67ed43de",
   "metadata": {},
   "source": [
    "### Diccionarios para los mascaras tejido-umbrales"
   ]
  },
  {
   "cell_type": "code",
   "execution_count": 11,
   "id": "d93797fd",
   "metadata": {},
   "outputs": [
    {
     "name": "stdout",
     "output_type": "stream",
     "text": [
      "mask\n",
      " {'mask_csf': '/home/aracena/thesis_ds002422/01_fase1_extraccion_mask_brain/output/datasink/masks_brain/mask_ext_csf/threshold_0.5/fmri_rest_prepro.nii.gz', 'mask_gm': '/home/aracena/thesis_ds002422/01_fase1_extraccion_mask_brain/output/datasink/masks_brain/mask_ext_gm/threshold_0.5/fmri_rest_prepro.nii.gz', 'mask_wm': '/home/aracena/thesis_ds002422/01_fase1_extraccion_mask_brain/output/datasink/masks_brain/mask_ext_wm/threshold_0.5/fmri_rest_prepro.nii.gz'}\n"
     ]
    }
   ],
   "source": [
    "mask = dict(zip(tejido,brain_mask.mask_brain))\n",
    "print('mask\\n', mask)"
   ]
  },
  {
   "cell_type": "markdown",
   "id": "e881f09c",
   "metadata": {},
   "source": [
    "### Diccionario: Cargamos imagenes nifti de mascaras"
   ]
  },
  {
   "cell_type": "code",
   "execution_count": 12,
   "id": "429c742e",
   "metadata": {},
   "outputs": [
    {
     "name": "stdout",
     "output_type": "stream",
     "text": [
      "(62, 62, 44, 196)\n",
      "(62, 62, 44, 196)\n",
      "(62, 62, 44, 196)\n"
     ]
    }
   ],
   "source": [
    "lista_brain = list(mask.keys()) # extraemos una lista de las mascaras\n",
    "\n",
    "img_mask = {}\n",
    "for i, tisue in enumerate(lista_brain):\n",
    "    img_mask[tisue] = nib.load(mask[tisue])\n",
    "\n",
    "print(img_mask['mask_csf'].shape)\n",
    "print(img_mask['mask_wm'].shape)\n",
    "print(img_mask['mask_gm'].shape)"
   ]
  },
  {
   "cell_type": "code",
   "execution_count": 13,
   "id": "07ef8987",
   "metadata": {},
   "outputs": [
    {
     "data": {
      "text/plain": [
       "{'mask_csf': <nibabel.nifti1.Nifti1Image at 0x7f4d23836130>,\n",
       " 'mask_gm': <nibabel.nifti1.Nifti1Image at 0x7f4d2386f9d0>,\n",
       " 'mask_wm': <nibabel.nifti1.Nifti1Image at 0x7f4d2386fb20>}"
      ]
     },
     "execution_count": 13,
     "metadata": {},
     "output_type": "execute_result"
    }
   ],
   "source": [
    "img_mask"
   ]
  },
  {
   "cell_type": "markdown",
   "id": "330dd692",
   "metadata": {},
   "source": [
    "### Diccionario: cargamos datos de mascaras"
   ]
  },
  {
   "cell_type": "code",
   "execution_count": 14,
   "id": "9c379b77",
   "metadata": {},
   "outputs": [
    {
     "name": "stdout",
     "output_type": "stream",
     "text": [
      "(62, 62, 44, 196)\n"
     ]
    }
   ],
   "source": [
    "datos_img_mask = {}\n",
    "for i, tisue in enumerate(lista_brain):\n",
    "    datos_img_mask[tisue] = img_mask[tisue].get_fdata()\n",
    "\n",
    "print(datos_img_mask['mask_wm'].shape)"
   ]
  },
  {
   "cell_type": "markdown",
   "id": "fa2fecff",
   "metadata": {},
   "source": [
    "### Diccionario: Agregamos las imagenes y datos de las imagenes da las mascaras brain al diccionario general"
   ]
  },
  {
   "cell_type": "code",
   "execution_count": 15,
   "id": "10c30b83",
   "metadata": {},
   "outputs": [],
   "source": [
    "'''\n",
    "Para añadir los pares clave-valor de un diccionario a otro, empleamos el método update().\n",
    "'''\n",
    "\n",
    "img.update(img_mask)\n",
    "datos_img.update(datos_img_mask)"
   ]
  },
  {
   "cell_type": "code",
   "execution_count": 16,
   "id": "bca80b31",
   "metadata": {},
   "outputs": [
    {
     "name": "stdout",
     "output_type": "stream",
     "text": [
      "{'func_prepro': <nibabel.nifti1.Nifti1Image object at 0x7f4d2386cd90>, 'mask_csf': <nibabel.nifti1.Nifti1Image object at 0x7f4d23836130>, 'mask_gm': <nibabel.nifti1.Nifti1Image object at 0x7f4d2386f9d0>, 'mask_wm': <nibabel.nifti1.Nifti1Image object at 0x7f4d2386fb20>}\n"
     ]
    }
   ],
   "source": [
    "print(img)"
   ]
  },
  {
   "cell_type": "markdown",
   "id": "584792fc",
   "metadata": {},
   "source": [
    "## Extraemos los atributos de las imagen(es)"
   ]
  },
  {
   "cell_type": "code",
   "execution_count": 17,
   "id": "c77d2393",
   "metadata": {},
   "outputs": [
    {
     "data": {
      "text/html": [
       "<div>\n",
       "<style scoped>\n",
       "    .dataframe tbody tr th:only-of-type {\n",
       "        vertical-align: middle;\n",
       "    }\n",
       "\n",
       "    .dataframe tbody tr th {\n",
       "        vertical-align: top;\n",
       "    }\n",
       "\n",
       "    .dataframe thead th {\n",
       "        text-align: right;\n",
       "    }\n",
       "</style>\n",
       "<table border=\"1\" class=\"dataframe\">\n",
       "  <thead>\n",
       "    <tr style=\"text-align: right;\">\n",
       "      <th></th>\n",
       "      <th>func_prepro</th>\n",
       "      <th>mask_csf</th>\n",
       "      <th>mask_gm</th>\n",
       "      <th>mask_wm</th>\n",
       "    </tr>\n",
       "  </thead>\n",
       "  <tbody>\n",
       "    <tr>\n",
       "      <th>forma</th>\n",
       "      <td>(62, 62, 44, 196)</td>\n",
       "      <td>(62, 62, 44, 196)</td>\n",
       "      <td>(62, 62, 44, 196)</td>\n",
       "      <td>(62, 62, 44, 196)</td>\n",
       "    </tr>\n",
       "    <tr>\n",
       "      <th>dimension</th>\n",
       "      <td>4</td>\n",
       "      <td>4</td>\n",
       "      <td>4</td>\n",
       "      <td>4</td>\n",
       "    </tr>\n",
       "    <tr>\n",
       "      <th>orientacion</th>\n",
       "      <td>(P, S, R)</td>\n",
       "      <td>(P, S, R)</td>\n",
       "      <td>(P, S, R)</td>\n",
       "      <td>(P, S, R)</td>\n",
       "    </tr>\n",
       "    <tr>\n",
       "      <th></th>\n",
       "      <td>[y, z, x]</td>\n",
       "      <td>[y, z, x]</td>\n",
       "      <td>[y, z, x]</td>\n",
       "      <td>[y, z, x]</td>\n",
       "    </tr>\n",
       "    <tr>\n",
       "      <th>x_img</th>\n",
       "      <td>44</td>\n",
       "      <td>44</td>\n",
       "      <td>44</td>\n",
       "      <td>44</td>\n",
       "    </tr>\n",
       "    <tr>\n",
       "      <th>y_img</th>\n",
       "      <td>62</td>\n",
       "      <td>62</td>\n",
       "      <td>62</td>\n",
       "      <td>62</td>\n",
       "    </tr>\n",
       "    <tr>\n",
       "      <th>z_img</th>\n",
       "      <td>62</td>\n",
       "      <td>62</td>\n",
       "      <td>62</td>\n",
       "      <td>62</td>\n",
       "    </tr>\n",
       "    <tr>\n",
       "      <th>volumenes_(N)</th>\n",
       "      <td>196</td>\n",
       "      <td>196</td>\n",
       "      <td>196</td>\n",
       "      <td>196</td>\n",
       "    </tr>\n",
       "    <tr>\n",
       "      <th>voxel_size_(mm)</th>\n",
       "      <td>[4.0, 4.0, 4.0]</td>\n",
       "      <td>[4.0, 4.0, 4.0]</td>\n",
       "      <td>[4.0, 4.0, 4.0]</td>\n",
       "      <td>[4.0, 4.0, 4.0]</td>\n",
       "    </tr>\n",
       "    <tr>\n",
       "      <th>TR_(s)</th>\n",
       "      <td>3.56</td>\n",
       "      <td>3.56</td>\n",
       "      <td>3.56</td>\n",
       "      <td>3.56</td>\n",
       "    </tr>\n",
       "    <tr>\n",
       "      <th>tipo_dato</th>\n",
       "      <td>float32</td>\n",
       "      <td>float32</td>\n",
       "      <td>float32</td>\n",
       "      <td>float32</td>\n",
       "    </tr>\n",
       "    <tr>\n",
       "      <th>numero_voxels</th>\n",
       "      <td>33150656</td>\n",
       "      <td>33150656</td>\n",
       "      <td>33150656</td>\n",
       "      <td>33150656</td>\n",
       "    </tr>\n",
       "    <tr>\n",
       "      <th>min_img</th>\n",
       "      <td>7.84</td>\n",
       "      <td>0.0</td>\n",
       "      <td>0.0</td>\n",
       "      <td>0.0</td>\n",
       "    </tr>\n",
       "    <tr>\n",
       "      <th>max_img</th>\n",
       "      <td>1156.94</td>\n",
       "      <td>941.74</td>\n",
       "      <td>941.74</td>\n",
       "      <td>941.29</td>\n",
       "    </tr>\n",
       "  </tbody>\n",
       "</table>\n",
       "</div>"
      ],
      "text/plain": [
       "                       func_prepro           mask_csf            mask_gm  \\\n",
       "forma            (62, 62, 44, 196)  (62, 62, 44, 196)  (62, 62, 44, 196)   \n",
       "dimension                        4                  4                  4   \n",
       "orientacion              (P, S, R)          (P, S, R)          (P, S, R)   \n",
       "                         [y, z, x]          [y, z, x]          [y, z, x]   \n",
       "x_img                           44                 44                 44   \n",
       "y_img                           62                 62                 62   \n",
       "z_img                           62                 62                 62   \n",
       "volumenes_(N)                  196                196                196   \n",
       "voxel_size_(mm)    [4.0, 4.0, 4.0]    [4.0, 4.0, 4.0]    [4.0, 4.0, 4.0]   \n",
       "TR_(s)                        3.56               3.56               3.56   \n",
       "tipo_dato                  float32            float32            float32   \n",
       "numero_voxels             33150656           33150656           33150656   \n",
       "min_img                       7.84                0.0                0.0   \n",
       "max_img                    1156.94             941.74             941.74   \n",
       "\n",
       "                           mask_wm  \n",
       "forma            (62, 62, 44, 196)  \n",
       "dimension                        4  \n",
       "orientacion              (P, S, R)  \n",
       "                         [y, z, x]  \n",
       "x_img                           44  \n",
       "y_img                           62  \n",
       "z_img                           62  \n",
       "volumenes_(N)                  196  \n",
       "voxel_size_(mm)    [4.0, 4.0, 4.0]  \n",
       "TR_(s)                        3.56  \n",
       "tipo_dato                  float32  \n",
       "numero_voxels             33150656  \n",
       "min_img                        0.0  \n",
       "max_img                     941.29  "
      ]
     },
     "execution_count": 17,
     "metadata": {},
     "output_type": "execute_result"
    }
   ],
   "source": [
    "'''\n",
    "Creamos diccionario de las imagenes (img) y datos de imagenes (datos_img)\n",
    "'''\n",
    "# Ya los diccionario img y datos_img estan creados en la lineas anteriores\n",
    "\n",
    "'''\n",
    "Ejecutamos la función atributo_img()\n",
    "'''\n",
    "atributo = atributo_img(img=img)\n",
    "atributo"
   ]
  },
  {
   "cell_type": "code",
   "execution_count": 18,
   "id": "8c10d7bc",
   "metadata": {},
   "outputs": [
    {
     "data": {
      "text/plain": [
       "44"
      ]
     },
     "execution_count": 18,
     "metadata": {},
     "output_type": "execute_result"
    }
   ],
   "source": [
    "atributo['func_prepro']['x_img']"
   ]
  },
  {
   "cell_type": "code",
   "execution_count": 19,
   "id": "b9a136e2",
   "metadata": {},
   "outputs": [
    {
     "name": "stdout",
     "output_type": "stream",
     "text": [
      "func_prepro\n",
      "mask_csf\n",
      "mask_gm\n",
      "mask_wm\n"
     ]
    }
   ],
   "source": [
    "for i, im in enumerate(datos_img):\n",
    "    print(im)"
   ]
  },
  {
   "cell_type": "markdown",
   "id": "835a326b",
   "metadata": {},
   "source": [
    "## Extraemos un volumen de las imagenes 4D para visualizar con plot_anat"
   ]
  },
  {
   "cell_type": "code",
   "execution_count": 20,
   "id": "66ffe093",
   "metadata": {},
   "outputs": [
    {
     "name": "stdout",
     "output_type": "stream",
     "text": [
      "(62, 62, 44)\n"
     ]
    }
   ],
   "source": [
    "vol = 0\n",
    "\n",
    "vol_img={}\n",
    "\n",
    "for i, im in enumerate(datos_img):\n",
    "    vol_img[im] = img[im].slicer[...,vol]\n",
    "\n",
    "print(vol_img['mask_gm'].shape)"
   ]
  },
  {
   "cell_type": "markdown",
   "id": "4a65456e",
   "metadata": {},
   "source": [
    "## Graficamos"
   ]
  },
  {
   "cell_type": "code",
   "execution_count": 21,
   "id": "b8f11262",
   "metadata": {},
   "outputs": [
    {
     "name": "stdout",
     "output_type": "stream",
     "text": [
      "func_prepro\n",
      "mask_csf\n",
      "mask_gm\n",
      "mask_wm\n"
     ]
    }
   ],
   "source": [
    "for i, im in enumerate(vol_img):\n",
    "    print(im)"
   ]
  },
  {
   "cell_type": "code",
   "execution_count": 22,
   "id": "cbc2a60d",
   "metadata": {},
   "outputs": [
    {
     "data": {
      "image/png": "[encoded data removed]",
      "text/plain": [
       "<Figure size 475.2x187.2 with 4 Axes>"
      ]
     },
     "metadata": {},
     "output_type": "display_data"
    },
    {
     "data": {
      "image/png": "[encoded data removed]",
      "text/plain": [
       "<Figure size 475.2x187.2 with 4 Axes>"
      ]
     },
     "metadata": {},
     "output_type": "display_data"
    },
    {
     "data": {
      "image/png": "[encoded data removed]",
      "text/plain": [
       "<Figure size 475.2x187.2 with 4 Axes>"
      ]
     },
     "metadata": {},
     "output_type": "display_data"
    },
    {
     "data": {
      "image/png": "[encoded data removed]",
      "text/plain": [
       "<Figure size 475.2x187.2 with 4 Axes>"
      ]
     },
     "metadata": {},
     "output_type": "display_data"
    }
   ],
   "source": [
    "for i, im in enumerate(vol_img):\n",
    "    if im == 'func_prepro':\n",
    "        plot_anat(vol_img[im], title=im,\n",
    "                  display_mode='ortho', dim=-1, draw_cross=False, annotate=False);\n",
    "    else:\n",
    "        plot_anat(vol_img[im], title=im+' : umbral ='+ umbral_sel,\n",
    "                  display_mode='ortho', dim=-1, draw_cross=False, annotate=False);"
   ]
  },
  {
   "cell_type": "markdown",
   "id": "10a8d7a3",
   "metadata": {},
   "source": [
    "## Ejecutamos función visual_cortes_ana"
   ]
  },
  {
   "cell_type": "code",
   "execution_count": 23,
   "id": "b5b00422",
   "metadata": {
    "scrolled": false
   },
   "outputs": [
    {
     "data": {
      "image/png": "[encoded data removed]",
      "text/plain": [
       "<Figure size 1440x1440 with 12 Axes>"
      ]
     },
     "metadata": {
      "needs_background": "light"
     },
     "output_type": "display_data"
    },
    {
     "data": {
      "image/png": "[encoded data removed]",
      "text/plain": [
       "<Figure size 144x144 with 3 Axes>"
      ]
     },
     "metadata": {},
     "output_type": "display_data"
    }
   ],
   "source": [
    "visual_cortes_ana(img= img,\n",
    "                 vol= 0,\n",
    "                 voxel=(32,44,25))"
   ]
  },
  {
   "cell_type": "markdown",
   "id": "f5daee3c",
   "metadata": {},
   "source": [
    "## Tiempo de ejecución"
   ]
  },
  {
   "cell_type": "code",
   "execution_count": 24,
   "id": "9d3b6bd2",
   "metadata": {},
   "outputs": [
    {
     "name": "stdout",
     "output_type": "stream",
     "text": [
      "--------------------------------------\n",
      "tiempo de ejecución\n",
      "\n",
      " 9.67 seg\n",
      " 0.161 min\n",
      "--------------------------------------\n",
      "tiempo de ejecución del sistema y CPU\n",
      "\n",
      " 12.88 seg\n",
      " 0.215 min\n",
      "--------------------------------------\n"
     ]
    }
   ],
   "source": [
    "fin = time.time()\n",
    "end = time.process_time()\n",
    "tiempo = fin - inicio\n",
    "tiempo2 = end - start\n",
    "\n",
    "print('--------------------------------------')\n",
    "print('tiempo de ejecución\\n\\n', round(tiempo,3), 'seg\\n', round(tiempo/60,3), 'min')     \n",
    "print('--------------------------------------')\n",
    "print('tiempo de ejecución del sistema y CPU\\n\\n', round(tiempo2,3), 'seg\\n', round(tiempo2/60,3), 'min')\n",
    "print('--------------------------------------')"
   ]
  },
  {
   "cell_type": "markdown",
   "id": "1feed7a6",
   "metadata": {},
   "source": [
    "## FIN"
   ]
  }
 ],
 "metadata": {
  "kernelspec": {
   "display_name": "Python 3 (ipykernel)",
   "language": "python",
   "name": "python3"
  },
  "language_info": {
   "codemirror_mode": {
    "name": "ipython",
    "version": 3
   },
   "file_extension": ".py",
   "mimetype": "text/x-python",
   "name": "python",
   "nbconvert_exporter": "python",
   "pygments_lexer": "ipython3",
   "version": "3.9.7"
  },
  "nbTranslate": {
   "displayLangs": [
    "*"
   ],
   "hotkey": "alt-t",
   "langInMainMenu": true,
   "sourceLang": "en",
   "targetLang": "fr",
   "useGoogleTranslate": true
  },
  "toc": {
   "base_numbering": 1,
   "nav_menu": {},
   "number_sections": true,
   "sideBar": true,
   "skip_h1_title": false,
   "title_cell": "Table of Contents",
   "title_sidebar": "Contents",
   "toc_cell": false,
   "toc_position": {
    "height": "calc(100% - 180px)",
    "left": "10px",
    "top": "150px",
    "width": "278px"
   },
   "toc_section_display": true,
   "toc_window_display": true
  },
  "varInspector": {
   "cols": {
    "lenName": 16,
    "lenType": 16,
    "lenVar": 40
   },
   "kernels_config": {
    "python": {
     "delete_cmd_postfix": "",
     "delete_cmd_prefix": "del ",
     "library": "var_list.py",
     "varRefreshCmd": "print(var_dic_list())"
    },
    "r": {
     "delete_cmd_postfix": ") ",
     "delete_cmd_prefix": "rm(",
     "library": "var_list.r",
     "varRefreshCmd": "cat(var_dic_list()) "
    }
   },
   "types_to_exclude": [
    "module",
    "function",
    "builtin_function_or_method",
    "instance",
    "_Feature"
   ],
   "window_display": false
  }
 },
 "nbformat": 4,
 "nbformat_minor": 5
}
